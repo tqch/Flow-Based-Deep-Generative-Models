{
 "cells": [
  {
   "cell_type": "code",
   "execution_count": 1,
   "metadata": {},
   "outputs": [],
   "source": [
    "import pathlib, sys\n",
    "\n",
    "sys.path.insert(0, str(pathlib.Path().resolve().parent))"
   ]
  },
  {
   "cell_type": "code",
   "execution_count": 2,
   "metadata": {},
   "outputs": [
    {
     "data": {
      "image/png": "[encoded data removed]",
      "text/plain": [
       "<Figure size 432x432 with 1 Axes>"
      ]
     },
     "metadata": {
      "needs_background": "light"
     },
     "output_type": "display_data"
    }
   ],
   "source": [
    "import numpy as np\n",
    "import matplotlib.pyplot as plt\n",
    "\n",
    "%matplotlib inline\n",
    "\n",
    "np.random.seed(1234)\n",
    "\n",
    "# Gaussian (std=2)\n",
    "toy_data = np.random.normal(loc=(0,0), scale=2, size=(100000, 2))\n",
    "# radii = np.sqrt(np.sum(toy_data**2, axis=1, keepdims=True))\n",
    "# toy_data = toy_data*(1+1/radii)\n",
    "\n",
    "plt.figure(figsize=(6, 6))\n",
    "_ = plt.hist2d(\n",
    "    toy_data[:,0], toy_data[:,1], \n",
    "    range=[[-4,4],[-4,4]],\n",
    "    bins=(20, 20),\n",
    "    density=True\n",
    ")"
   ]
  },
  {
   "cell_type": "code",
   "execution_count": 3,
   "metadata": {},
   "outputs": [
    {
     "name": "stderr",
     "output_type": "stream",
     "text": [
      "1/10 epochs: 100%|████████████████████████████████████████████████| 20/20 [00:00<00:00, 25.20it/s, train_neg_logp=12.3]\n",
      "2/10 epochs: 100%|████████████████████████████████████████████████| 20/20 [00:00<00:00, 26.18it/s, train_neg_logp=4.67]\n",
      "3/10 epochs: 100%|████████████████████████████████████████████████| 20/20 [00:00<00:00, 25.28it/s, train_neg_logp=4.55]\n",
      "4/10 epochs: 100%|████████████████████████████████████████████████| 20/20 [00:00<00:00, 24.97it/s, train_neg_logp=4.52]\n",
      "5/10 epochs: 100%|█████████████████████████████████████████████████| 20/20 [00:00<00:00, 25.50it/s, train_neg_logp=4.5]\n",
      "6/10 epochs: 100%|████████████████████████████████████████████████| 20/20 [00:00<00:00, 22.15it/s, train_neg_logp=4.48]\n",
      "7/10 epochs: 100%|████████████████████████████████████████████████| 20/20 [00:00<00:00, 26.78it/s, train_neg_logp=4.46]\n",
      "8/10 epochs: 100%|████████████████████████████████████████████████| 20/20 [00:00<00:00, 26.25it/s, train_neg_logp=4.45]\n",
      "9/10 epochs: 100%|████████████████████████████████████████████████| 20/20 [00:00<00:00, 25.61it/s, train_neg_logp=4.43]\n",
      "10/10 epochs: 100%|███████████████████████████████████████████████| 20/20 [00:00<00:00, 24.16it/s, train_neg_logp=4.42]\n"
     ]
    }
   ],
   "source": [
    "from tqdm import tqdm\n",
    "import torch\n",
    "from flows import NormalizingFlow\n",
    "from torch.optim import SGD, Adam\n",
    "from torch.utils.data import DataLoader, Dataset\n",
    "\n",
    "device = torch.device(\"cuda\" if torch.cuda.is_available() else \"cpu\")\n",
    "input_dim = 2\n",
    "n_layers = 10\n",
    "\n",
    "radial_flow = NormalizingFlow(input_dim, n_layers, transformation=\"radial\")\n",
    "radial_flow.to(device)\n",
    "\n",
    "n_epochs = 10\n",
    "\n",
    "optimizer = SGD(radial_flow.parameters(), lr=0.01, momentum=0.8, weight_decay=0, nesterov=True)\n",
    "# optimizer = Adam(radial_flow.parameters(), lr=0.01, weight_decay=5e-3)\n",
    "\n",
    "\n",
    "class ToyDataset(Dataset):\n",
    "    def __init__(self, data):\n",
    "        self.data = data\n",
    "    def __getitem__(self, idx):\n",
    "        return self.data[idx]\n",
    "    def __len__(self):\n",
    "        return len(self.data)\n",
    "\n",
    "ds = ToyDataset(toy_data)\n",
    "train_loader = DataLoader(ds, batch_size=5000)\n",
    "    \n",
    "for e in range(n_epochs):\n",
    "    with tqdm(train_loader, desc=f\"{e+1}/{n_epochs} epochs\") as t:\n",
    "        train_neg_logp = 0\n",
    "        train_total = 0\n",
    "        for i, x in enumerate(t):\n",
    "            neg_logp = radial_flow(x.flatten(start_dim=1).to(device))\n",
    "            optimizer.zero_grad()\n",
    "            neg_logp.backward()\n",
    "            optimizer.step()\n",
    "            radial_flow.modify()\n",
    "            train_neg_logp += neg_logp.item()*x.size(0)\n",
    "            train_total += x.size(0)\n",
    "            t.set_postfix({\"train_neg_logp\": train_neg_logp/train_total})"
   ]
  },
  {
   "cell_type": "code",
   "execution_count": 4,
   "metadata": {},
   "outputs": [
    {
     "data": {
      "image/png": "[encoded data removed]",
      "text/plain": [
       "<Figure size 432x432 with 1 Axes>"
      ]
     },
     "metadata": {
      "needs_background": "light"
     },
     "output_type": "display_data"
    }
   ],
   "source": [
    "torch.manual_seed(1234)\n",
    "z = torch.randn((100000, 2))\n",
    "x = radial_flow.inverse(z)\n",
    "\n",
    "plt.figure(figsize=(6, 6))\n",
    "_ = plt.hist2d(\n",
    "    x[:,0], x[:,1], \n",
    "    range=[[-4,4],[-4,4]],\n",
    "    bins=(20, 20),\n",
    "    density=True\n",
    ")"
   ]
  }
 ],
 "metadata": {
  "kernelspec": {
   "display_name": "Python 3",
   "language": "python",
   "name": "python3"
  },
  "language_info": {
   "codemirror_mode": {
    "name": "ipython",
    "version": 3
   },
   "file_extension": ".py",
   "mimetype": "text/x-python",
   "name": "python",
   "nbconvert_exporter": "python",
   "pygments_lexer": "ipython3",
   "version": "3.7.6"
  }
 },
 "nbformat": 4,
 "nbformat_minor": 4
}
