{
 "cells": [
  {
   "cell_type": "code",
   "execution_count": 9,
   "metadata": {},
   "outputs": [
    {
     "data": {
      "text/plain": [
       "tensor([0.])"
      ]
     },
     "execution_count": 9,
     "metadata": {},
     "output_type": "execute_result"
    }
   ],
   "source": [
    "torch.max(torch.zeros(1), -1*torch.ones(1))"
   ]
  },
  {
   "cell_type": "code",
   "execution_count": 7,
   "metadata": {},
   "outputs": [
    {
     "data": {
      "text/plain": [
       "1.0"
      ]
     },
     "execution_count": 7,
     "metadata": {},
     "output_type": "execute_result"
    }
   ],
   "source": [
    "import torch\n",
    "\n",
    "# torch.randn(1)\n",
    "\n",
    "a = torch.nn.Parameter(torch.Tensor([1]))\n",
    "b = torch.nn.Parameter(a.data)\n",
    "b.data = torch.Tensor([2])\n",
    "a.item()"
   ]
  },
  {
   "cell_type": "code",
   "execution_count": 12,
   "metadata": {},
   "outputs": [],
   "source": [
    "import torch\n",
    "import torch.nn as nn\n",
    "import torch.nn.functional as F\n",
    "import scipy.optimize\n",
    "import numpy as np\n",
    "from collections import OrderedDict\n",
    "\n",
    "def bisect(func, fx, x_min, x_max, max_iter=500, tol=1e-6):\n",
    "    left = x_min\n",
    "    right = x_max\n",
    "    mid = np.zeros(len(fx))\n",
    "    \n",
    "    f_left = func(left)-fx\n",
    "    f_right = func(right)-fx\n",
    "    \n",
    "    update_indices = np.arange(len(fx))    \n",
    " \n",
    "    for it in range(max_iter):\n",
    "        if it == 0:\n",
    "            assert np.all(np.sign(f_left)!=np.sign(f_right)),\\\n",
    "            \"Function values of x_min and x_max must have different sign!\"\n",
    "        mid[update_indices] = (left[update_indices]+right[update_indices])/2\n",
    "        f_mid = func(mid[update_indices])-fx[update_indices]\n",
    "        # whether the left points have the same signs of function values as the midpoints\n",
    "        same_sign = np.sign(f_left)==np.sign(f_mid)\n",
    "        # the left points that need to be replaced by the midpoints\n",
    "        move2right = update_indices[same_sign]\n",
    "        move2left = update_indices[~same_sign]\n",
    "        # update\n",
    "        left[move2right] = mid[move2right]\n",
    "        f_left[move2right] = f_mid[same_sign]\n",
    "        right[move2left] = mid[move2left]\n",
    "        f_right[move2left] = f_mid[~same_sign]\n",
    "        update_indices = update_indices[np.abs(f_mid)>tol]\n",
    "        if len(update_indices) == 0: \n",
    "            # jump out of the loop if no midpoint needs to be updated\n",
    "            break\n",
    "    return mid\n",
    "\n",
    "class PlanarFlow(nn.Module):\n",
    "    \"\"\"\n",
    "    z_{k+1} = z_k + utanh(w^Tz_k+b)\n",
    "    w: projection\n",
    "    b: bias\n",
    "    u: expanding/contracting direction\n",
    "    \"\"\"\n",
    "    def __init__(self, input_dim):\n",
    "        super(PlanarFlow, self).__init__()\n",
    "        self.input_dim = input_dim\n",
    "        self.direction = nn.Parameter(\n",
    "            nn.init.xavier_normal_(torch.empty(1, self.input_dim)))\n",
    "        self.projection = nn.Parameter(\n",
    "            nn.init.xavier_normal_(torch.empty(1, self.input_dim)))\n",
    "        self.bias = nn.Parameter(torch.zeros(1))\n",
    "        \n",
    "    def forward(self, x):\n",
    "        wxb = torch.sum(x*self.projection,dim=-1,keepdim=True)+self.bias\n",
    "        hx = torch.tanh(wxb)\n",
    "        Dhx = 1/(torch.cosh(wxb))**2\n",
    "        coef = (self.projection*self.direction).sum(dim=-1,keepdim=True)\n",
    "        return x + self.direction*hx, (1+Dhx*coef).abs()\n",
    "    \n",
    "    def modify(self):\n",
    "        coef = torch.sum(self.projection*self.direction)  # w^Tu\n",
    "        # in order to guarantee invertibility\n",
    "        # it suffices to have w^Tu > -1\n",
    "        # we follow the appendix to modify u\n",
    "        if coef <= -1:\n",
    "            m_coef = -1+torch.log(1+torch.exp(coef))\n",
    "            unit_proj = self.projection.data/torch.sum(self.projection.data**2).sqrt()\n",
    "            self.direction.data = self.direction.data+(m_coef-coef)*unit_proj\n",
    "            \n",
    "    def get_func(self, z):\n",
    "        coef = (self.projection*self.direction).sum().item()\n",
    "        bias = self.bias.item()\n",
    "        def func(x):\n",
    "            fx = x+coef*np.tanh(x+bias)\n",
    "            return fx-z\n",
    "        return func\n",
    "        \n",
    "    def inverse_base(self, z):\n",
    "        with torch.no_grad():\n",
    "            coef = (self.projection*self.direction).sum().item()\n",
    "            fx = np.sum(self.projection.cpu().numpy()*z)\n",
    "            f = self.get_func(fx)\n",
    "            parallel = scipy.optimize.bisect(self.get_func(fx), fx-coef, fx+coef)\n",
    "            hx = np.tanh(parallel+self.bias.item())\n",
    "            return z - self.direction.cpu().numpy()*hx\n",
    "    \n",
    "    def inverse(self, z):\n",
    "        coef = (self.projection*self.direction).sum().item()\n",
    "        bias = self.bias.item()\n",
    "        def mapping(x):\n",
    "            fx = x+coef*np.tanh(x+bias)\n",
    "            return fx\n",
    "#         out = []\n",
    "#         for row in np.vsplit(z, len(z)):\n",
    "#             out.append(self.inverse_base(row))\n",
    "#         return np.vstack(out)\n",
    "        fx = np.sum(self.projection.cpu().numpy()*z, axis=-1)\n",
    "        parallel = bisect(mapping, fx, x_min=fx-coef, x_max=fx+coef)\n",
    "        hx = np.tanh(parallel+bias)\n",
    "        return z - self.direction.cpu().numpy()*hx[:, None]\n",
    "\n",
    "\n",
    "class NormalizingFlow(nn.Module):\n",
    "    def __init__(\n",
    "        self,\n",
    "        input_dim,\n",
    "        n_maps,\n",
    "        transformation=\"planar\"\n",
    "    ):\n",
    "        super(NormalizingFlow, self).__init__()\n",
    "        self.input_dim = input_dim\n",
    "        self.n_maps = n_maps\n",
    "        self.transformation = transformation\n",
    "        self.flows = nn.Sequential(OrderedDict(\n",
    "            (f\"flow_{i}\", self.get_flow() )\n",
    "            for i in range(self.n_maps)\n",
    "        ))\n",
    "    \n",
    "    def __iter__(self):\n",
    "        self.map_id = 0\n",
    "        return self\n",
    "        \n",
    "    def __next__(self):\n",
    "        if self.map_id < self.n_maps:\n",
    "            flow = getattr(self.flows, f\"flow_{self.map_id}\")\n",
    "            self.map_id += 1\n",
    "            return flow\n",
    "        else:\n",
    "            raise StopIteration\n",
    "    \n",
    "    def get_flow(self):\n",
    "        if self.transformation == \"planar\":\n",
    "            return PlanarFlow(self.input_dim)\n",
    "        elif self.transformation == \"radial\":\n",
    "            pass\n",
    "    def forward(self, x):\n",
    "        logp = 0\n",
    "        for flow in self:\n",
    "            x, det = flow(x)\n",
    "            logp += torch.log(det).mean()\n",
    "        logp += -(x.size(1)/2)*np.log(2*np.pi)\n",
    "        logp += -(x**2).sum(dim=1).mean()/2\n",
    "        return -logp\n",
    "    def modify(self):\n",
    "        for flow in self:\n",
    "            flow.modify()\n",
    "    def inverse(self, z):\n",
    "        with torch.no_grad():\n",
    "            x = np.array(z.clone())\n",
    "            for flow in self:\n",
    "                x = flow.inverse(x)\n",
    "        return x"
   ]
  },
  {
   "cell_type": "code",
   "execution_count": 133,
   "metadata": {},
   "outputs": [],
   "source": [
    "from torchvision import datasets, transforms\n",
    "from torch.utils.data import DataLoader, Dataset\n",
    "\n",
    "root = \"~/datasets\"\n",
    "transform = transforms.ToTensor()\n",
    "\n",
    "train_data = datasets.MNIST(root=root, download=False, train=True, transform=transform)\n",
    "train_loader = DataLoader(train_data, batch_size=512)\n",
    "\n",
    "# digit = 1\n",
    "# digit_data = train_data.data[train_data.targets==digit]/255\n",
    "\n",
    "# class SingleDigit(Dataset):\n",
    "#     def __init__(self, data):\n",
    "#         self.data = data\n",
    "#     def __getitem__(self, idx):\n",
    "#         return self.data[idx]\n",
    "#     def __len__(self):\n",
    "#         return len(self.data)\n",
    "    \n",
    "# train_loader = DataLoader(SingleDigit(digit_data), batch_size=512)"
   ]
  },
  {
   "cell_type": "code",
   "execution_count": 41,
   "metadata": {},
   "outputs": [
    {
     "name": "stderr",
     "output_type": "stream",
     "text": [
      "0/10 epochs:   0%|                                                                              | 0/10 [00:00<?, ?it/s]\n"
     ]
    },
    {
     "ename": "RuntimeError",
     "evalue": "The size of tensor a (2) must match the size of tensor b (784) at non-singleton dimension 1",
     "output_type": "error",
     "traceback": [
      "\u001b[1;31m---------------------------------------------------------------------------\u001b[0m",
      "\u001b[1;31mRuntimeError\u001b[0m                              Traceback (most recent call last)",
      "\u001b[1;32m<ipython-input-41-03fea302e9c4>\u001b[0m in \u001b[0;36m<module>\u001b[1;34m\u001b[0m\n\u001b[0;32m     19\u001b[0m         \u001b[0mtrain_total\u001b[0m \u001b[1;33m=\u001b[0m \u001b[1;36m0\u001b[0m\u001b[1;33m\u001b[0m\u001b[1;33m\u001b[0m\u001b[0m\n\u001b[0;32m     20\u001b[0m         \u001b[1;32mfor\u001b[0m \u001b[0mi\u001b[0m\u001b[1;33m,\u001b[0m \u001b[0mx\u001b[0m \u001b[1;32min\u001b[0m \u001b[0menumerate\u001b[0m\u001b[1;33m(\u001b[0m\u001b[0mt\u001b[0m\u001b[1;33m)\u001b[0m\u001b[1;33m:\u001b[0m\u001b[1;33m\u001b[0m\u001b[1;33m\u001b[0m\u001b[0m\n\u001b[1;32m---> 21\u001b[1;33m             \u001b[0mneg_logp\u001b[0m \u001b[1;33m=\u001b[0m \u001b[0mplanar_flow\u001b[0m\u001b[1;33m(\u001b[0m\u001b[0mx\u001b[0m\u001b[1;33m.\u001b[0m\u001b[0mflatten\u001b[0m\u001b[1;33m(\u001b[0m\u001b[0mstart_dim\u001b[0m\u001b[1;33m=\u001b[0m\u001b[1;36m1\u001b[0m\u001b[1;33m)\u001b[0m\u001b[1;33m.\u001b[0m\u001b[0mto\u001b[0m\u001b[1;33m(\u001b[0m\u001b[0mdevice\u001b[0m\u001b[1;33m)\u001b[0m\u001b[1;33m)\u001b[0m\u001b[1;33m\u001b[0m\u001b[1;33m\u001b[0m\u001b[0m\n\u001b[0m\u001b[0;32m     22\u001b[0m             \u001b[0moptimizer\u001b[0m\u001b[1;33m.\u001b[0m\u001b[0mzero_grad\u001b[0m\u001b[1;33m(\u001b[0m\u001b[1;33m)\u001b[0m\u001b[1;33m\u001b[0m\u001b[1;33m\u001b[0m\u001b[0m\n\u001b[0;32m     23\u001b[0m             \u001b[0mneg_logp\u001b[0m\u001b[1;33m.\u001b[0m\u001b[0mbackward\u001b[0m\u001b[1;33m(\u001b[0m\u001b[1;33m)\u001b[0m\u001b[1;33m\u001b[0m\u001b[1;33m\u001b[0m\u001b[0m\n",
      "\u001b[1;32mc:\\users\\bravo\\appdata\\local\\programs\\python\\python37\\lib\\site-packages\\torch\\nn\\modules\\module.py\u001b[0m in \u001b[0;36m_call_impl\u001b[1;34m(self, *input, **kwargs)\u001b[0m\n\u001b[0;32m    887\u001b[0m             \u001b[0mresult\u001b[0m \u001b[1;33m=\u001b[0m \u001b[0mself\u001b[0m\u001b[1;33m.\u001b[0m\u001b[0m_slow_forward\u001b[0m\u001b[1;33m(\u001b[0m\u001b[1;33m*\u001b[0m\u001b[0minput\u001b[0m\u001b[1;33m,\u001b[0m \u001b[1;33m**\u001b[0m\u001b[0mkwargs\u001b[0m\u001b[1;33m)\u001b[0m\u001b[1;33m\u001b[0m\u001b[1;33m\u001b[0m\u001b[0m\n\u001b[0;32m    888\u001b[0m         \u001b[1;32melse\u001b[0m\u001b[1;33m:\u001b[0m\u001b[1;33m\u001b[0m\u001b[1;33m\u001b[0m\u001b[0m\n\u001b[1;32m--> 889\u001b[1;33m             \u001b[0mresult\u001b[0m \u001b[1;33m=\u001b[0m \u001b[0mself\u001b[0m\u001b[1;33m.\u001b[0m\u001b[0mforward\u001b[0m\u001b[1;33m(\u001b[0m\u001b[1;33m*\u001b[0m\u001b[0minput\u001b[0m\u001b[1;33m,\u001b[0m \u001b[1;33m**\u001b[0m\u001b[0mkwargs\u001b[0m\u001b[1;33m)\u001b[0m\u001b[1;33m\u001b[0m\u001b[1;33m\u001b[0m\u001b[0m\n\u001b[0m\u001b[0;32m    890\u001b[0m         for hook in itertools.chain(\n\u001b[0;32m    891\u001b[0m                 \u001b[0m_global_forward_hooks\u001b[0m\u001b[1;33m.\u001b[0m\u001b[0mvalues\u001b[0m\u001b[1;33m(\u001b[0m\u001b[1;33m)\u001b[0m\u001b[1;33m,\u001b[0m\u001b[1;33m\u001b[0m\u001b[1;33m\u001b[0m\u001b[0m\n",
      "\u001b[1;32m<ipython-input-40-80f99679381c>\u001b[0m in \u001b[0;36mforward\u001b[1;34m(self, x)\u001b[0m\n\u001b[0;32m    135\u001b[0m         \u001b[0mlogp\u001b[0m \u001b[1;33m=\u001b[0m \u001b[1;36m0\u001b[0m\u001b[1;33m\u001b[0m\u001b[1;33m\u001b[0m\u001b[0m\n\u001b[0;32m    136\u001b[0m         \u001b[1;32mfor\u001b[0m \u001b[0mflow\u001b[0m \u001b[1;32min\u001b[0m \u001b[0mself\u001b[0m\u001b[1;33m:\u001b[0m\u001b[1;33m\u001b[0m\u001b[1;33m\u001b[0m\u001b[0m\n\u001b[1;32m--> 137\u001b[1;33m             \u001b[0mx\u001b[0m\u001b[1;33m,\u001b[0m \u001b[0mdet\u001b[0m \u001b[1;33m=\u001b[0m \u001b[0mflow\u001b[0m\u001b[1;33m(\u001b[0m\u001b[0mx\u001b[0m\u001b[1;33m)\u001b[0m\u001b[1;33m\u001b[0m\u001b[1;33m\u001b[0m\u001b[0m\n\u001b[0m\u001b[0;32m    138\u001b[0m             \u001b[0mlogp\u001b[0m \u001b[1;33m+=\u001b[0m \u001b[0mtorch\u001b[0m\u001b[1;33m.\u001b[0m\u001b[0mlog\u001b[0m\u001b[1;33m(\u001b[0m\u001b[0mdet\u001b[0m\u001b[1;33m)\u001b[0m\u001b[1;33m.\u001b[0m\u001b[0mmean\u001b[0m\u001b[1;33m(\u001b[0m\u001b[1;33m)\u001b[0m\u001b[1;33m\u001b[0m\u001b[1;33m\u001b[0m\u001b[0m\n\u001b[0;32m    139\u001b[0m         \u001b[0mlogp\u001b[0m \u001b[1;33m+=\u001b[0m \u001b[1;33m-\u001b[0m\u001b[1;33m(\u001b[0m\u001b[0mx\u001b[0m\u001b[1;33m.\u001b[0m\u001b[0msize\u001b[0m\u001b[1;33m(\u001b[0m\u001b[1;36m1\u001b[0m\u001b[1;33m)\u001b[0m\u001b[1;33m/\u001b[0m\u001b[1;36m2\u001b[0m\u001b[1;33m)\u001b[0m\u001b[1;33m*\u001b[0m\u001b[0mnp\u001b[0m\u001b[1;33m.\u001b[0m\u001b[0mlog\u001b[0m\u001b[1;33m(\u001b[0m\u001b[1;36m2\u001b[0m\u001b[1;33m*\u001b[0m\u001b[0mnp\u001b[0m\u001b[1;33m.\u001b[0m\u001b[0mpi\u001b[0m\u001b[1;33m)\u001b[0m\u001b[1;33m\u001b[0m\u001b[1;33m\u001b[0m\u001b[0m\n",
      "\u001b[1;32mc:\\users\\bravo\\appdata\\local\\programs\\python\\python37\\lib\\site-packages\\torch\\nn\\modules\\module.py\u001b[0m in \u001b[0;36m_call_impl\u001b[1;34m(self, *input, **kwargs)\u001b[0m\n\u001b[0;32m    887\u001b[0m             \u001b[0mresult\u001b[0m \u001b[1;33m=\u001b[0m \u001b[0mself\u001b[0m\u001b[1;33m.\u001b[0m\u001b[0m_slow_forward\u001b[0m\u001b[1;33m(\u001b[0m\u001b[1;33m*\u001b[0m\u001b[0minput\u001b[0m\u001b[1;33m,\u001b[0m \u001b[1;33m**\u001b[0m\u001b[0mkwargs\u001b[0m\u001b[1;33m)\u001b[0m\u001b[1;33m\u001b[0m\u001b[1;33m\u001b[0m\u001b[0m\n\u001b[0;32m    888\u001b[0m         \u001b[1;32melse\u001b[0m\u001b[1;33m:\u001b[0m\u001b[1;33m\u001b[0m\u001b[1;33m\u001b[0m\u001b[0m\n\u001b[1;32m--> 889\u001b[1;33m             \u001b[0mresult\u001b[0m \u001b[1;33m=\u001b[0m \u001b[0mself\u001b[0m\u001b[1;33m.\u001b[0m\u001b[0mforward\u001b[0m\u001b[1;33m(\u001b[0m\u001b[1;33m*\u001b[0m\u001b[0minput\u001b[0m\u001b[1;33m,\u001b[0m \u001b[1;33m**\u001b[0m\u001b[0mkwargs\u001b[0m\u001b[1;33m)\u001b[0m\u001b[1;33m\u001b[0m\u001b[1;33m\u001b[0m\u001b[0m\n\u001b[0m\u001b[0;32m    890\u001b[0m         for hook in itertools.chain(\n\u001b[0;32m    891\u001b[0m                 \u001b[0m_global_forward_hooks\u001b[0m\u001b[1;33m.\u001b[0m\u001b[0mvalues\u001b[0m\u001b[1;33m(\u001b[0m\u001b[1;33m)\u001b[0m\u001b[1;33m,\u001b[0m\u001b[1;33m\u001b[0m\u001b[1;33m\u001b[0m\u001b[0m\n",
      "\u001b[1;32m<ipython-input-40-80f99679381c>\u001b[0m in \u001b[0;36mforward\u001b[1;34m(self, x)\u001b[0m\n\u001b[0;32m     49\u001b[0m \u001b[1;33m\u001b[0m\u001b[0m\n\u001b[0;32m     50\u001b[0m     \u001b[1;32mdef\u001b[0m \u001b[0mforward\u001b[0m\u001b[1;33m(\u001b[0m\u001b[0mself\u001b[0m\u001b[1;33m,\u001b[0m \u001b[0mx\u001b[0m\u001b[1;33m)\u001b[0m\u001b[1;33m:\u001b[0m\u001b[1;33m\u001b[0m\u001b[1;33m\u001b[0m\u001b[0m\n\u001b[1;32m---> 51\u001b[1;33m         \u001b[0mwxb\u001b[0m \u001b[1;33m=\u001b[0m \u001b[0mtorch\u001b[0m\u001b[1;33m.\u001b[0m\u001b[0msum\u001b[0m\u001b[1;33m(\u001b[0m\u001b[0mx\u001b[0m\u001b[1;33m*\u001b[0m\u001b[0mself\u001b[0m\u001b[1;33m.\u001b[0m\u001b[0mprojection\u001b[0m\u001b[1;33m,\u001b[0m\u001b[0mdim\u001b[0m\u001b[1;33m=\u001b[0m\u001b[1;33m-\u001b[0m\u001b[1;36m1\u001b[0m\u001b[1;33m,\u001b[0m\u001b[0mkeepdim\u001b[0m\u001b[1;33m=\u001b[0m\u001b[1;32mTrue\u001b[0m\u001b[1;33m)\u001b[0m\u001b[1;33m+\u001b[0m\u001b[0mself\u001b[0m\u001b[1;33m.\u001b[0m\u001b[0mbias\u001b[0m\u001b[1;33m\u001b[0m\u001b[1;33m\u001b[0m\u001b[0m\n\u001b[0m\u001b[0;32m     52\u001b[0m         \u001b[0mhx\u001b[0m \u001b[1;33m=\u001b[0m \u001b[0mtorch\u001b[0m\u001b[1;33m.\u001b[0m\u001b[0mtanh\u001b[0m\u001b[1;33m(\u001b[0m\u001b[0mwxb\u001b[0m\u001b[1;33m)\u001b[0m\u001b[1;33m\u001b[0m\u001b[1;33m\u001b[0m\u001b[0m\n\u001b[0;32m     53\u001b[0m         \u001b[0mDhx\u001b[0m \u001b[1;33m=\u001b[0m \u001b[1;36m1\u001b[0m\u001b[1;33m/\u001b[0m\u001b[1;33m(\u001b[0m\u001b[0mtorch\u001b[0m\u001b[1;33m.\u001b[0m\u001b[0mcosh\u001b[0m\u001b[1;33m(\u001b[0m\u001b[0mwxb\u001b[0m\u001b[1;33m)\u001b[0m\u001b[1;33m)\u001b[0m\u001b[1;33m**\u001b[0m\u001b[1;36m2\u001b[0m\u001b[1;33m\u001b[0m\u001b[1;33m\u001b[0m\u001b[0m\n",
      "\u001b[1;31mRuntimeError\u001b[0m: The size of tensor a (2) must match the size of tensor b (784) at non-singleton dimension 1"
     ]
    }
   ],
   "source": [
    "from tqdm import tqdm\n",
    "from torch.optim import SGD, Adam\n",
    "\n",
    "\n",
    "device = torch.device(\"cuda\" if torch.cuda.is_available() else \"cpu\")\n",
    "input_dim = 28*28\n",
    "n_layers = 10\n",
    "\n",
    "planar_flow = NormalizingFlow(input_dim, n_layers)\n",
    "planar_flow.to(device)\n",
    "\n",
    "n_epochs = 10\n",
    "# optimizer = SGD(planar_flow.parameters(), lr=0.01, momentum=0.8, weight_decay=0, nesterov=True)\n",
    "optimizer = Adam(planar_flow.parameters(), lr=0.001, weight_decay=5e-3)\n",
    "\n",
    "for e in range(n_epochs):\n",
    "    with tqdm(train_loader, desc=f\"{e}/{n_epochs} epochs\") as t:\n",
    "        train_neg_logp = 0\n",
    "        train_total = 0\n",
    "        for i, x in enumerate(t):\n",
    "            neg_logp = planar_flow(x.flatten(start_dim=1).to(device))\n",
    "            optimizer.zero_grad()\n",
    "            neg_logp.backward()\n",
    "            optimizer.step()\n",
    "            planar_flow.modify()\n",
    "            train_neg_logp += neg_logp.item()*x.size(0)\n",
    "            train_total += x.size(0)\n",
    "            t.set_postfix({\"train_neg_logp\": train_neg_logp/train_total})"
   ]
  },
  {
   "cell_type": "code",
   "execution_count": 150,
   "metadata": {},
   "outputs": [
    {
     "data": {
      "image/png": "[encoded data removed]",
      "text/plain": [
       "<Figure size 432x432 with 1 Axes>"
      ]
     },
     "metadata": {
      "needs_background": "light"
     },
     "output_type": "display_data"
    }
   ],
   "source": [
    "import numpy as np\n",
    "import matplotlib.pyplot as plt\n",
    "\n",
    "%matplotlib inline\n",
    "\n",
    "np.random.seed(1234)\n",
    "# 2d Laplace dist.\n",
    "toy_data = np.random.laplace(size=(100000, 2))\n",
    "\n",
    "plt.figure(figsize=(6, 6))\n",
    "_ = plt.hist2d(\n",
    "    toy_data[:,0], toy_data[:,1], \n",
    "    range=[[-3,3],[-3,3]],\n",
    "    bins=(20, 20),\n",
    "    density=True\n",
    ")"
   ]
  },
  {
   "cell_type": "code",
   "execution_count": 4,
   "metadata": {},
   "outputs": [
    {
     "data": {
      "image/png": "[encoded data removed]",
      "text/plain": [
       "<Figure size 432x432 with 1 Axes>"
      ]
     },
     "metadata": {
      "needs_background": "light"
     },
     "output_type": "display_data"
    }
   ],
   "source": [
    "import numpy as np\n",
    "import matplotlib.pyplot as plt\n",
    "\n",
    "%matplotlib inline\n",
    "\n",
    "np.random.seed(1234)\n",
    "\n",
    "# bimodal Gaussian\n",
    "toy_data = np.concatenate([\n",
    "    np.random.normal(loc=(-2,0),size=(50000, 2)),\n",
    "    np.random.normal(loc=(2,0),size=(50000, 2))\n",
    "], axis=0)\n",
    "\n",
    "\n",
    "plt.figure(figsize=(6, 6))\n",
    "_ = plt.hist2d(\n",
    "    toy_data[:,0], toy_data[:,1], \n",
    "    range=[[-4,4],[-4,4]],\n",
    "    bins=(20, 20),\n",
    "    density=True\n",
    ")"
   ]
  },
  {
   "cell_type": "code",
   "execution_count": 13,
   "metadata": {},
   "outputs": [
    {
     "name": "stderr",
     "output_type": "stream",
     "text": [
      "1/10 epochs: 100%|██████████████████████████████████████████████| 100/100 [00:01<00:00, 66.82it/s, train_neg_logp=3.66]\n",
      "2/10 epochs: 100%|███████████████████████████████████████████████| 100/100 [00:01<00:00, 77.16it/s, train_neg_logp=3.5]\n",
      "3/10 epochs: 100%|██████████████████████████████████████████████| 100/100 [00:01<00:00, 74.52it/s, train_neg_logp=3.51]\n",
      "4/10 epochs: 100%|██████████████████████████████████████████████| 100/100 [00:01<00:00, 72.92it/s, train_neg_logp=3.51]\n",
      "5/10 epochs: 100%|██████████████████████████████████████████████| 100/100 [00:01<00:00, 75.30it/s, train_neg_logp=3.51]\n",
      "6/10 epochs: 100%|██████████████████████████████████████████████| 100/100 [00:01<00:00, 74.79it/s, train_neg_logp=3.52]\n",
      "7/10 epochs: 100%|██████████████████████████████████████████████| 100/100 [00:01<00:00, 74.18it/s, train_neg_logp=3.52]\n",
      "8/10 epochs: 100%|██████████████████████████████████████████████| 100/100 [00:01<00:00, 76.05it/s, train_neg_logp=3.52]\n",
      "9/10 epochs: 100%|██████████████████████████████████████████████| 100/100 [00:01<00:00, 71.10it/s, train_neg_logp=3.51]\n",
      "10/10 epochs: 100%|█████████████████████████████████████████████| 100/100 [00:01<00:00, 81.90it/s, train_neg_logp=3.51]\n"
     ]
    }
   ],
   "source": [
    "from tqdm import tqdm\n",
    "from torch.optim import SGD, Adam\n",
    "from torch.utils.data import DataLoader, Dataset\n",
    "\n",
    "device = torch.device(\"cuda\" if torch.cuda.is_available() else \"cpu\")\n",
    "input_dim = 2\n",
    "n_layers = 5\n",
    "\n",
    "planar_flow = NormalizingFlow(input_dim, n_layers)\n",
    "planar_flow.to(device)\n",
    "\n",
    "n_epochs = 10\n",
    "optimizer = Adam(planar_flow.parameters(), lr=0.01)#, weight_decay=5e-3)\n",
    "\n",
    "\n",
    "class ToyDataset(Dataset):\n",
    "    def __init__(self, data):\n",
    "        self.data = data\n",
    "    def __getitem__(self, idx):\n",
    "        return self.data[idx]\n",
    "    def __len__(self):\n",
    "        return len(self.data)\n",
    "\n",
    "ds = ToyDataset(toy_data)\n",
    "train_loader = DataLoader(ds, batch_size=1000)\n",
    "    \n",
    "for e in range(n_epochs):\n",
    "    with tqdm(train_loader, desc=f\"{e+1}/{n_epochs} epochs\") as t:\n",
    "        train_neg_logp = 0\n",
    "        train_total = 0\n",
    "        for i, x in enumerate(t):\n",
    "            neg_logp = planar_flow(x.flatten(start_dim=1).to(device))\n",
    "            optimizer.zero_grad()\n",
    "            neg_logp.backward()\n",
    "            optimizer.step()\n",
    "            planar_flow.modify()\n",
    "            train_neg_logp += neg_logp.item()*x.size(0)\n",
    "            train_total += x.size(0)\n",
    "            t.set_postfix({\"train_neg_logp\": train_neg_logp/train_total})"
   ]
  },
  {
   "cell_type": "code",
   "execution_count": 17,
   "metadata": {},
   "outputs": [
    {
     "name": "stderr",
     "output_type": "stream",
     "text": [
      "c:\\users\\bravo\\appdata\\local\\programs\\python\\python37\\lib\\site-packages\\ipykernel_launcher.py:25: DeprecationWarning: elementwise comparison failed; this will raise an error in the future.\n"
     ]
    },
    {
     "data": {
      "image/png": "[encoded data removed]",
      "text/plain": [
       "<Figure size 432x432 with 1 Axes>"
      ]
     },
     "metadata": {
      "needs_background": "light"
     },
     "output_type": "display_data"
    }
   ],
   "source": [
    "torch.manual_seed(1234)\n",
    "z = torch.randn((100000, 2))\n",
    "x = planar_flow.inverse(z)\n",
    "\n",
    "plt.figure(figsize=(6, 6))\n",
    "_ = plt.hist2d(\n",
    "    x[:,0], x[:,1], \n",
    "    range=[[-4,4],[-4,4]],\n",
    "    bins=(20, 20),\n",
    "    density=True\n",
    ")"
   ]
  }
 ],
 "metadata": {
  "kernelspec": {
   "display_name": "Python 3",
   "language": "python",
   "name": "python3"
  },
  "language_info": {
   "codemirror_mode": {
    "name": "ipython",
    "version": 3
   },
   "file_extension": ".py",
   "mimetype": "text/x-python",
   "name": "python",
   "nbconvert_exporter": "python",
   "pygments_lexer": "ipython3",
   "version": "3.7.6"
  }
 },
 "nbformat": 4,
 "nbformat_minor": 4
}
